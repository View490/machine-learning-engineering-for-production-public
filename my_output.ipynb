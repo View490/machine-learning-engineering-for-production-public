{
  "cells": [
    {
      "cell_type": "markdown",
      "metadata": {},
      "source": [
        "# Course 1 - Introduction to Machine Learning in Production"
      ]
    },
    {
      "cell_type": "markdown",
      "metadata": {},
      "source": [
        "## Overview of ML Lifecycle and Deployment"
      ]
    },
    {
      "cell_type": "markdown",
      "metadata": {},
      "source": [
        "* Beyond Notebook: Production ML isn't just a notebook, it's a hybrid.\n",
        "* Dual Expertise: ML teams need both ML and software engineering knowledges for building and deploying.\n",
        "* Product not Project: Not on creating a model, there are need for CI/CD model development.\n",
        "* Model Potential: To maximize the values of ML project, it nee to be how to deploy in production."
      ]
    },
    {
      "cell_type": "markdown",
      "metadata": {},
      "source": [
        "### Deployment Example"
      ]
    },
    {
      "cell_type": "markdown",
      "metadata": {},
      "source": [
        "The Scenarios:\n",
        "* Camera take pictures of smartphones on a production line.\n",
        "* An API call sends the image to a prediction server (cloud or edge based)\n",
        "* The server analyzed images if phone is defective.\n",
        "\n",
        "Deployment Challenges:\n",
        "* More than ML Code: Need software to handle API calls, control decisions, and handle production specifics.\n",
        "* Edge vs Cloud: depend on factors ex. internet reliability, latency, and etc.\n",
        "* Real-World Surprises: Factory condition might differ from training environment, cuase issue called concept drift (e.g., dark lighting)\n",
        "* Bridging the Gap: Method to translate smoothly to production deployment by a little adaptating such as shadow deployment."
      ]
    },
    {
      "cell_type": "markdown",
      "metadata": {},
      "source": [
        "### Steps of ML Project"
      ]
    },
    {
      "cell_type": "markdown",
      "metadata": {},
      "source": [
        "1. Scope the Seas: define the goal of proeject, what is input and output and why we have to use ML model ?\n",
        "2. Gather Treasure: Stock up on valuable data, baseline, label, and organize it. Create a map that navigatable from the model.\n",
        "3. Train the Model: build, train, select, analyze errors of the models.\n",
        "4. Iterate and Explore: Back to data, model update, chcek project scoping.\n",
        "5. Pre-Deployment Check: makesure the model is suitable for deploying environment.\n",
        "6. Deploy: start deploy model in production by defined method.\n",
        "7. Monitoring and Matain: to avoid any huge error effect, monitoring such as logs and losses are great for avoid error.\n",
        "8. Refine: checks the CI/CD pipeline, concept drift, data distribution and wether or not the model still suit for business goal."
      ]
    },
    {
      "cell_type": "markdown",
      "metadata": {},
      "source": [
        "### Example - Speech Recognition\n",
        "\n",
        "**Scoping Stage**\n",
        "\n",
        "**Data Stage**\n",
        "\n",
        "**Modeling Stage**\n",
        "\n",
        "**Deployment Stage**"
      ]
    },
    {
      "cell_type": "markdown",
      "metadata": {},
      "source": [
        "## Select and Train a Model"
      ]
    },
    {
      "cell_type": "markdown",
      "metadata": {},
      "source": [
        "### Selecting and Training a Model"
      ]
    },
    {
      "cell_type": "markdown",
      "metadata": {},
      "source": [
        " ..."
      ]
    },
    {
      "cell_type": "markdown",
      "metadata": {},
      "source": [
        " ..."
      ]
    },
    {
      "cell_type": "markdown",
      "metadata": {},
      "source": [
        "### Error Analysis and Performance Auditing"
      ]
    },
    {
      "cell_type": "markdown",
      "metadata": {},
      "source": [
        " ..."
      ]
    },
    {
      "cell_type": "markdown",
      "metadata": {},
      "source": [
        " ..."
      ]
    },
    {
      "cell_type": "markdown",
      "metadata": {},
      "source": [
        "### Data Iteration"
      ]
    },
    {
      "cell_type": "markdown",
      "metadata": {},
      "source": [
        " ..."
      ]
    },
    {
      "cell_type": "markdown",
      "metadata": {},
      "source": [
        " ..."
      ]
    },
    {
      "cell_type": "markdown",
      "metadata": {},
      "source": [
        "## Data Definition and Baseline"
      ]
    },
    {
      "cell_type": "markdown",
      "metadata": {},
      "source": [
        "### Define Data and Establish Baseline"
      ]
    },
    {
      "cell_type": "markdown",
      "metadata": {},
      "source": [
        " ..."
      ]
    },
    {
      "cell_type": "markdown",
      "metadata": {},
      "source": [
        " ..."
      ]
    },
    {
      "cell_type": "markdown",
      "metadata": {},
      "source": [
        "### Label and Organize Data"
      ]
    },
    {
      "cell_type": "markdown",
      "metadata": {},
      "source": [
        " ..."
      ]
    },
    {
      "cell_type": "markdown",
      "metadata": {},
      "source": [
        " ..."
      ]
    },
    {
      "cell_type": "markdown",
      "metadata": {},
      "source": [
        "### Scoping"
      ]
    },
    {
      "cell_type": "markdown",
      "metadata": {},
      "source": [
        " ..."
      ]
    },
    {
      "cell_type": "markdown",
      "metadata": {},
      "source": [
        " ..."
      ]
    },
    {
      "cell_type": "markdown",
      "metadata": {},
      "source": [
        "# Course 2 - Machine Learning Data Lifecycle in Production"
      ]
    },
    {
      "cell_type": "markdown",
      "metadata": {},
      "source": [
        "## Collecting, Labeling and Validation Data"
      ]
    },
    {
      "cell_type": "markdown",
      "metadata": {},
      "source": [
        "### Introduction to Machine Learning in ML Pipeline and MLEP"
      ]
    },
    {
      "cell_type": "markdown",
      "metadata": {},
      "source": [
        " ..."
      ]
    },
    {
      "cell_type": "markdown",
      "metadata": {},
      "source": [
        " ..."
      ]
    },
    {
      "cell_type": "markdown",
      "metadata": {},
      "source": [
        "### Collecting Data"
      ]
    },
    {
      "cell_type": "markdown",
      "metadata": {},
      "source": [
        " ..."
      ]
    },
    {
      "cell_type": "markdown",
      "metadata": {},
      "source": [
        " ..."
      ]
    },
    {
      "cell_type": "markdown",
      "metadata": {},
      "source": [
        "### Labeling Data"
      ]
    },
    {
      "cell_type": "markdown",
      "metadata": {},
      "source": [
        " ..."
      ]
    },
    {
      "cell_type": "markdown",
      "metadata": {},
      "source": [
        " ..."
      ]
    },
    {
      "cell_type": "markdown",
      "metadata": {},
      "source": [
        "### Validating Data"
      ]
    },
    {
      "cell_type": "markdown",
      "metadata": {},
      "source": [
        " ..."
      ]
    },
    {
      "cell_type": "markdown",
      "metadata": {},
      "source": [
        " ..."
      ]
    },
    {
      "cell_type": "markdown",
      "metadata": {},
      "source": [
        "## Feature Engineering, Transformation and Selection"
      ]
    },
    {
      "cell_type": "markdown",
      "metadata": {},
      "source": [
        "### Feature Engineering"
      ]
    },
    {
      "cell_type": "markdown",
      "metadata": {},
      "source": [
        " ..."
      ]
    },
    {
      "cell_type": "markdown",
      "metadata": {},
      "source": [
        " ..."
      ]
    },
    {
      "cell_type": "markdown",
      "metadata": {},
      "source": [
        "### Feature Transformation at Scale"
      ]
    },
    {
      "cell_type": "markdown",
      "metadata": {},
      "source": [
        " ..."
      ]
    },
    {
      "cell_type": "markdown",
      "metadata": {},
      "source": [
        " ..."
      ]
    },
    {
      "cell_type": "markdown",
      "metadata": {},
      "source": [
        "### Feature Selection"
      ]
    },
    {
      "cell_type": "markdown",
      "metadata": {},
      "source": [
        " ..."
      ]
    },
    {
      "cell_type": "markdown",
      "metadata": {},
      "source": [
        " ..."
      ]
    },
    {
      "cell_type": "markdown",
      "metadata": {},
      "source": [
        "## Data Journey and Data Storage"
      ]
    },
    {
      "cell_type": "markdown",
      "metadata": {},
      "source": [
        "### Introduction to ML Metadata"
      ]
    },
    {
      "cell_type": "markdown",
      "metadata": {},
      "source": [
        " ..."
      ]
    },
    {
      "cell_type": "markdown",
      "metadata": {},
      "source": [
        " ..."
      ]
    },
    {
      "cell_type": "markdown",
      "metadata": {},
      "source": [
        "### Evolving Data"
      ]
    },
    {
      "cell_type": "markdown",
      "metadata": {},
      "source": [
        " ..."
      ]
    },
    {
      "cell_type": "markdown",
      "metadata": {},
      "source": [
        " ..."
      ]
    },
    {
      "cell_type": "markdown",
      "metadata": {},
      "source": [
        "### Enterprise Data Storage"
      ]
    },
    {
      "cell_type": "markdown",
      "metadata": {},
      "source": [
        " ..."
      ]
    },
    {
      "cell_type": "markdown",
      "metadata": {},
      "source": [
        " ..."
      ]
    },
    {
      "cell_type": "markdown",
      "metadata": {},
      "source": [
        "## Advanced Labeling, Augmentation and Data Preprocessing"
      ]
    },
    {
      "cell_type": "markdown",
      "metadata": {},
      "source": [
        "### Advanced Labeling"
      ]
    },
    {
      "cell_type": "markdown",
      "metadata": {},
      "source": [
        " ..."
      ]
    },
    {
      "cell_type": "markdown",
      "metadata": {},
      "source": [
        " ..."
      ]
    },
    {
      "cell_type": "markdown",
      "metadata": {},
      "source": [
        "### Data Augmentation"
      ]
    },
    {
      "cell_type": "markdown",
      "metadata": {},
      "source": [
        " ..."
      ]
    },
    {
      "cell_type": "markdown",
      "metadata": {},
      "source": [
        " ..."
      ]
    },
    {
      "cell_type": "markdown",
      "metadata": {},
      "source": [
        "### Preprocessing Different Data Types"
      ]
    },
    {
      "cell_type": "markdown",
      "metadata": {},
      "source": [
        " ..."
      ]
    },
    {
      "cell_type": "markdown",
      "metadata": {},
      "source": [
        " ..."
      ]
    },
    {
      "cell_type": "markdown",
      "metadata": {},
      "source": [
        "# Course 3 - Machine Learning Modeling Pipelines in Production"
      ]
    },
    {
      "cell_type": "markdown",
      "metadata": {},
      "source": [
        "## Neural Architecture Search"
      ]
    },
    {
      "cell_type": "markdown",
      "metadata": {},
      "source": [
        "### Hyperparameters Tuning: Searching for Best Architecture"
      ]
    },
    {
      "cell_type": "markdown",
      "metadata": {},
      "source": [
        " ..."
      ]
    },
    {
      "cell_type": "markdown",
      "metadata": {},
      "source": [
        " ..."
      ]
    },
    {
      "cell_type": "markdown",
      "metadata": {},
      "source": [
        "### AutoML"
      ]
    },
    {
      "cell_type": "markdown",
      "metadata": {},
      "source": [
        " ..."
      ]
    },
    {
      "cell_type": "markdown",
      "metadata": {},
      "source": [
        " ..."
      ]
    },
    {
      "cell_type": "markdown",
      "metadata": {},
      "source": [
        "### AutoML Vision"
      ]
    },
    {
      "cell_type": "markdown",
      "metadata": {},
      "source": [
        " ..."
      ]
    },
    {
      "cell_type": "markdown",
      "metadata": {},
      "source": [
        " ..."
      ]
    },
    {
      "cell_type": "markdown",
      "metadata": {},
      "source": [
        "## Model Resource Management Techniques"
      ]
    },
    {
      "cell_type": "markdown",
      "metadata": {},
      "source": [
        "### Dimensionality Reduction"
      ]
    },
    {
      "cell_type": "markdown",
      "metadata": {},
      "source": [
        " ..."
      ]
    },
    {
      "cell_type": "markdown",
      "metadata": {},
      "source": [
        " ..."
      ]
    },
    {
      "cell_type": "markdown",
      "metadata": {},
      "source": [
        "### Quantization and Pruning"
      ]
    },
    {
      "cell_type": "markdown",
      "metadata": {},
      "source": [
        " ..."
      ]
    },
    {
      "cell_type": "markdown",
      "metadata": {},
      "source": [
        " ..."
      ]
    },
    {
      "cell_type": "markdown",
      "metadata": {},
      "source": [
        "## High-Performance Modeling"
      ]
    },
    {
      "cell_type": "markdown",
      "metadata": {},
      "source": [
        "### High-Performance Modeling"
      ]
    },
    {
      "cell_type": "markdown",
      "metadata": {},
      "source": [
        " ..."
      ]
    },
    {
      "cell_type": "markdown",
      "metadata": {},
      "source": [
        " ..."
      ]
    },
    {
      "cell_type": "markdown",
      "metadata": {},
      "source": [
        "### Knowledge Distillation"
      ]
    },
    {
      "cell_type": "markdown",
      "metadata": {},
      "source": [
        " ..."
      ]
    },
    {
      "cell_type": "markdown",
      "metadata": {},
      "source": [
        " ..."
      ]
    },
    {
      "cell_type": "markdown",
      "metadata": {},
      "source": [
        "## Model Analysis (TFMA)"
      ]
    },
    {
      "cell_type": "markdown",
      "metadata": {},
      "source": [
        "### Model Analysis Overview"
      ]
    },
    {
      "cell_type": "markdown",
      "metadata": {},
      "source": [
        " ..."
      ]
    },
    {
      "cell_type": "markdown",
      "metadata": {},
      "source": [
        " ..."
      ]
    },
    {
      "cell_type": "markdown",
      "metadata": {},
      "source": [
        "### Advanced Mode Analysis and Debugging"
      ]
    },
    {
      "cell_type": "markdown",
      "metadata": {},
      "source": [
        " ..."
      ]
    },
    {
      "cell_type": "markdown",
      "metadata": {},
      "source": [
        " ..."
      ]
    },
    {
      "cell_type": "markdown",
      "metadata": {},
      "source": [
        "### Continuous Evaluation and Monitoring"
      ]
    },
    {
      "cell_type": "markdown",
      "metadata": {},
      "source": [
        " ..."
      ]
    },
    {
      "cell_type": "markdown",
      "metadata": {},
      "source": [
        " ..."
      ]
    },
    {
      "cell_type": "markdown",
      "metadata": {},
      "source": [
        "## Interpretability"
      ]
    },
    {
      "cell_type": "markdown",
      "metadata": {},
      "source": [
        "### Explainable AI"
      ]
    },
    {
      "cell_type": "markdown",
      "metadata": {},
      "source": [
        " ..."
      ]
    },
    {
      "cell_type": "markdown",
      "metadata": {},
      "source": [
        " ..."
      ]
    },
    {
      "cell_type": "markdown",
      "metadata": {},
      "source": [
        "### Interpretability"
      ]
    },
    {
      "cell_type": "markdown",
      "metadata": {},
      "source": [
        " ..."
      ]
    },
    {
      "cell_type": "markdown",
      "metadata": {},
      "source": [
        " ..."
      ]
    },
    {
      "cell_type": "markdown",
      "metadata": {},
      "source": [
        "### Understanding Model Predictions"
      ]
    },
    {
      "cell_type": "markdown",
      "metadata": {},
      "source": [
        " ..."
      ]
    },
    {
      "cell_type": "markdown",
      "metadata": {},
      "source": [
        " ..."
      ]
    },
    {
      "cell_type": "markdown",
      "metadata": {},
      "source": [
        "# Course 4 - Deploying Machine Learning Models in Production"
      ]
    },
    {
      "cell_type": "markdown",
      "metadata": {},
      "source": [
        "## Model Serving Introduction"
      ]
    },
    {
      "cell_type": "markdown",
      "metadata": {},
      "source": [
        "### Introduction to Model Serving"
      ]
    },
    {
      "cell_type": "markdown",
      "metadata": {},
      "source": [
        " ..."
      ]
    },
    {
      "cell_type": "markdown",
      "metadata": {},
      "source": [
        " ..."
      ]
    },
    {
      "cell_type": "markdown",
      "metadata": {},
      "source": [
        "### Model Serving Infrastructure"
      ]
    },
    {
      "cell_type": "markdown",
      "metadata": {},
      "source": [
        " ..."
      ]
    },
    {
      "cell_type": "markdown",
      "metadata": {},
      "source": [
        " ..."
      ]
    },
    {
      "cell_type": "markdown",
      "metadata": {},
      "source": [
        "### Tensorflow Serving"
      ]
    },
    {
      "cell_type": "markdown",
      "metadata": {},
      "source": [
        " ..."
      ]
    },
    {
      "cell_type": "markdown",
      "metadata": {},
      "source": [
        " ..."
      ]
    },
    {
      "cell_type": "markdown",
      "metadata": {},
      "source": [
        "## Model Serving Patterns and Infrastructure"
      ]
    },
    {
      "cell_type": "markdown",
      "metadata": {},
      "source": [
        "### Model Serving Architecture"
      ]
    },
    {
      "cell_type": "markdown",
      "metadata": {},
      "source": [
        " ..."
      ]
    },
    {
      "cell_type": "markdown",
      "metadata": {},
      "source": [
        " ..."
      ]
    },
    {
      "cell_type": "markdown",
      "metadata": {},
      "source": [
        "### Scaling Infrastructure"
      ]
    },
    {
      "cell_type": "markdown",
      "metadata": {},
      "source": [
        " ..."
      ]
    },
    {
      "cell_type": "markdown",
      "metadata": {},
      "source": [
        " ..."
      ]
    },
    {
      "cell_type": "markdown",
      "metadata": {},
      "source": [
        "### Online Inference"
      ]
    },
    {
      "cell_type": "markdown",
      "metadata": {},
      "source": [
        " ..."
      ]
    },
    {
      "cell_type": "markdown",
      "metadata": {},
      "source": [
        " ..."
      ]
    },
    {
      "cell_type": "markdown",
      "metadata": {},
      "source": [
        "### Data Preprocessing"
      ]
    },
    {
      "cell_type": "markdown",
      "metadata": {},
      "source": [
        " ..."
      ]
    },
    {
      "cell_type": "markdown",
      "metadata": {},
      "source": [
        " ..."
      ]
    },
    {
      "cell_type": "markdown",
      "metadata": {},
      "source": [
        "### Batch Inference Scenarios"
      ]
    },
    {
      "cell_type": "markdown",
      "metadata": {},
      "source": [
        " ..."
      ]
    },
    {
      "cell_type": "markdown",
      "metadata": {},
      "source": [
        " ..."
      ]
    },
    {
      "cell_type": "markdown",
      "metadata": {},
      "source": [
        "### Batch Processing with ETL"
      ]
    },
    {
      "cell_type": "markdown",
      "metadata": {},
      "source": [
        " ..."
      ]
    },
    {
      "cell_type": "markdown",
      "metadata": {},
      "source": [
        " ..."
      ]
    },
    {
      "cell_type": "markdown",
      "metadata": {},
      "source": [
        "## Model Management and Delivery"
      ]
    },
    {
      "cell_type": "markdown",
      "metadata": {},
      "source": [
        "### ML Experience Management and Workflow Automation"
      ]
    },
    {
      "cell_type": "markdown",
      "metadata": {},
      "source": [
        " ..."
      ]
    },
    {
      "cell_type": "markdown",
      "metadata": {},
      "source": [
        " ..."
      ]
    },
    {
      "cell_type": "markdown",
      "metadata": {},
      "source": [
        "### MLOPs Methodology"
      ]
    },
    {
      "cell_type": "markdown",
      "metadata": {},
      "source": [
        " ..."
      ]
    },
    {
      "cell_type": "markdown",
      "metadata": {},
      "source": [
        " ..."
      ]
    },
    {
      "cell_type": "markdown",
      "metadata": {},
      "source": [
        "### Model Management and Deployment Infrastructure"
      ]
    },
    {
      "cell_type": "markdown",
      "metadata": {},
      "source": [
        " ..."
      ]
    },
    {
      "cell_type": "markdown",
      "metadata": {},
      "source": [
        " ..."
      ]
    },
    {
      "cell_type": "markdown",
      "metadata": {},
      "source": [
        "## Model Monitoring and Logging"
      ]
    },
    {
      "cell_type": "markdown",
      "metadata": {},
      "source": [
        "### Model Monitoring and Logging"
      ]
    },
    {
      "cell_type": "markdown",
      "metadata": {},
      "source": [
        " ..."
      ]
    },
    {
      "cell_type": "markdown",
      "metadata": {},
      "source": [
        " ..."
      ]
    },
    {
      "cell_type": "markdown",
      "metadata": {},
      "source": [
        "### Model Decay"
      ]
    },
    {
      "cell_type": "markdown",
      "metadata": {},
      "source": [
        " ..."
      ]
    },
    {
      "cell_type": "markdown",
      "metadata": {},
      "source": [
        " ..."
      ]
    },
    {
      "cell_type": "markdown",
      "metadata": {},
      "source": [
        "### GDPR and Privacy"
      ]
    },
    {
      "cell_type": "markdown",
      "metadata": {},
      "source": [
        " ..."
      ]
    },
    {
      "cell_type": "markdown",
      "metadata": {},
      "source": [
        " ..."
      ]
    }
  ],
  "metadata": {
    "language_info": {
      "name": "python"
    }
  },
  "nbformat": 4,
  "nbformat_minor": 2
}
